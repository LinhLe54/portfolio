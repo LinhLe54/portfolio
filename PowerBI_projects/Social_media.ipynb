{
 "cells": [
  {
   "cell_type": "markdown",
   "id": "8d6835b1",
   "metadata": {},
   "source": [
    "Kiểm tra và xử lý lại sắc thái (sentiment) của từng bài viết / bình luận cho chính xác"
   ]
  },
  {
   "cell_type": "code",
   "execution_count": 1,
   "id": "ca0b8ffd",
   "metadata": {},
   "outputs": [],
   "source": [
    "import pandas as pd\n",
    "from textblob import TextBlob\n",
    "from deep_translator import GoogleTranslator\n",
    "\n",
    "# Hàm dịch tiếng Việt sang tiếng Anh và phân tích sắc thái\n",
    "def classify_sentiment_vi(text):\n",
    "    try:\n",
    "        # Dịch sang tiếng Anh\n",
    "        translated = GoogleTranslator(source='vi', target='en').translate(str(text))\n",
    "        analysis = TextBlob(translated)\n",
    "        polarity = analysis.sentiment.polarity\n",
    "        if polarity > 0:\n",
    "            return \"positive\"\n",
    "        elif polarity < 0:\n",
    "            return \"negative\"\n",
    "        else:\n",
    "            return \"neutral\"\n",
    "    except:\n",
    "        return \"neutral\"\n",
    "\n",
    "# Đọc file Excel\n",
    "file_path = 'Social Media Data.xlsx'\n",
    "df = pd.read_excel(file_path, sheet_name='Dữ liệu')\n",
    "\n",
    "# Lọc các dòng có content hợp lệ\n",
    "df_valid = df[df['Content'].notna()].copy()\n",
    "\n",
    "# Chuẩn hóa sentiment gốc\n",
    "df_valid['Sentiment'] = df_valid['Sentiment'].astype(str).str.strip().str.lower()\n",
    "\n",
    "# Phân tích sentiment mới bằng nội dung đã dịch\n",
    "df_valid['sentiment_rechecked'] = df_valid['Content'].apply(classify_sentiment_vi)\n",
    "\n",
    "# Chuẩn hóa sentiment_rechecked để tránh lỗi so sánh\n",
    "df_valid['sentiment_rechecked'] = df_valid['sentiment_rechecked'].astype(str).str.strip().str.lower()\n",
    "\n",
    "# So sánh xem giống hay khác\n",
    "df_valid['so_sanh'] = df_valid.apply(\n",
    "    lambda x: 'giống' if x['Sentiment'] == x['sentiment_rechecked'] else 'khác',\n",
    "    axis=1\n",
    ")\n",
    "\n",
    "# Lấy các cột cần thiết\n",
    "df_Sentiment = df_valid[['Platform', 'Type', 'Title', 'Content', 'Sentiment', 'sentiment_rechecked', 'so_sanh']]\n",
    "df_Sentiment.columns = [col.lower() for col in df_Sentiment.columns]\n",
    "\n",
    "# Ghi ra file Excel, thêm vào sheet 'Sentiment'\n",
    "with pd.ExcelWriter(file_path, engine='openpyxl', mode='a', if_sheet_exists='replace') as writer:\n",
    "    df_Sentiment.to_excel(writer, sheet_name='Sentiment', index=False)"
   ]
  },
  {
   "cell_type": "markdown",
   "id": "d82004fb",
   "metadata": {},
   "source": [
    "Nội dung mỗi bài viết và bình luận đang thể hiện khía cạnh gì"
   ]
  },
  {
   "cell_type": "code",
   "execution_count": 2,
   "id": "a570c187",
   "metadata": {},
   "outputs": [],
   "source": [
    "import pandas as pd\n",
    "\n",
    "# Đọc dữ liệu từ file Excel\n",
    "file_path = 'Social Media Data.xlsx'\n",
    "df = pd.read_excel(file_path, sheet_name='Dữ liệu')\n",
    "\n",
    "# Hàm phân loại khía cạnh theo từ khóa\n",
    "def classify_aspect(text):\n",
    "    text = str(text).lower()\n",
    "    \n",
    "    # Từ khóa đặc trưng\n",
    "    keywords_brand = ['tcbs', 'thương hiệu', 'chứng khoán kỹ thuật số', 'giới thiệu tcbs']\n",
    "    keywords_product = ['trái phiếu', 'quỹ đầu tư', 'ứng dụng', 'sản phẩm', 'dịch vụ', 'ibond', 'tcinvest', 'cổ phiếu']\n",
    "    keywords_promo = ['khuyến mãi', 'ưu đãi', 'giảm phí', 'voucher', 'tặng', 'quà', 'miễn phí']\n",
    "    \n",
    "    # Phân loại\n",
    "    if any(keyword in text for keyword in keywords_brand):\n",
    "        return 'Thương hiệu'\n",
    "    elif any(keyword in text for keyword in keywords_product):\n",
    "        return 'Sản phẩm'\n",
    "    elif any(keyword in text for keyword in keywords_promo):\n",
    "        return 'Chương trình khuyến mãi'\n",
    "    else:\n",
    "        return 'Khác'\n",
    "\n",
    "# Áp dụng hàm phân loại vào cột Content\n",
    "df['aspect'] = df['Content'].fillna('').apply(classify_aspect)\n",
    "\n",
    "# Chọn cột xuất ra và đổi tên thành chữ thường\n",
    "df_output = df[['Platform', 'Type', 'Title', 'Content', 'aspect']].copy()\n",
    "df_output.columns = ['platform', 'type', 'title', 'content', 'aspect']\n",
    "\n",
    "# Ghi vào sheet mới trong file Excel gốc\n",
    "with pd.ExcelWriter(file_path, mode='a', engine='openpyxl', if_sheet_exists='replace') as writer:\n",
    "    df_output.to_excel(writer, sheet_name='Aspect', index=False)"
   ]
  }
 ],
 "metadata": {
  "kernelspec": {
   "display_name": "Python 3",
   "language": "python",
   "name": "python3"
  },
  "language_info": {
   "codemirror_mode": {
    "name": "ipython",
    "version": 3
   },
   "file_extension": ".py",
   "mimetype": "text/x-python",
   "name": "python",
   "nbconvert_exporter": "python",
   "pygments_lexer": "ipython3",
   "version": "3.12.0"
  }
 },
 "nbformat": 4,
 "nbformat_minor": 5
}
