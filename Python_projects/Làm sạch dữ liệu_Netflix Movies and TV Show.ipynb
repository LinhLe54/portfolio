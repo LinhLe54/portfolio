{
 "cells": [
  {
   "cell_type": "code",
   "execution_count": 54,
   "id": "699938d2",
   "metadata": {},
   "outputs": [
    {
     "name": "stdout",
     "output_type": "stream",
     "text": [
      "  show_id     type                  title         director  \\\n",
      "0      s1    Movie   Dick Johnson Is Dead  Kirsten Johnson   \n",
      "1      s2  TV Show          Blood & Water              NaN   \n",
      "2      s3  TV Show              Ganglands  Julien Leclercq   \n",
      "3      s4  TV Show  Jailbirds New Orleans              NaN   \n",
      "4      s5  TV Show           Kota Factory              NaN   \n",
      "\n",
      "                                                cast        country  \\\n",
      "0                                                NaN  United States   \n",
      "1  Ama Qamata, Khosi Ngema, Gail Mabalane, Thaban...   South Africa   \n",
      "2  Sami Bouajila, Tracy Gotoas, Samuel Jouy, Nabi...            NaN   \n",
      "3                                                NaN            NaN   \n",
      "4  Mayur More, Jitendra Kumar, Ranjan Raj, Alam K...          India   \n",
      "\n",
      "           date_added  release_year rating   duration  \\\n",
      "0  September 25, 2021          2020  PG-13     90 min   \n",
      "1  September 24, 2021          2021  TV-MA  2 Seasons   \n",
      "2  September 24, 2021          2021  TV-MA   1 Season   \n",
      "3  September 24, 2021          2021  TV-MA   1 Season   \n",
      "4  September 24, 2021          2021  TV-MA  2 Seasons   \n",
      "\n",
      "                                           listed_in  \\\n",
      "0                                      Documentaries   \n",
      "1    International TV Shows, TV Dramas, TV Mysteries   \n",
      "2  Crime TV Shows, International TV Shows, TV Act...   \n",
      "3                             Docuseries, Reality TV   \n",
      "4  International TV Shows, Romantic TV Shows, TV ...   \n",
      "\n",
      "                                         description  \n",
      "0  As her father nears the end of his life, filmm...  \n",
      "1  After crossing paths at a party, a Cape Town t...  \n",
      "2  To protect his family from a powerful drug lor...  \n",
      "3  Feuds, flirtations and toilet talk go down amo...  \n",
      "4  In a city of coaching centers known to train I...  \n",
      "<class 'pandas.core.frame.DataFrame'>\n",
      "RangeIndex: 8807 entries, 0 to 8806\n",
      "Data columns (total 12 columns):\n",
      " #   Column        Non-Null Count  Dtype \n",
      "---  ------        --------------  ----- \n",
      " 0   show_id       8807 non-null   object\n",
      " 1   type          8807 non-null   object\n",
      " 2   title         8807 non-null   object\n",
      " 3   director      6173 non-null   object\n",
      " 4   cast          7982 non-null   object\n",
      " 5   country       7976 non-null   object\n",
      " 6   date_added    8797 non-null   object\n",
      " 7   release_year  8807 non-null   int64 \n",
      " 8   rating        8803 non-null   object\n",
      " 9   duration      8804 non-null   object\n",
      " 10  listed_in     8807 non-null   object\n",
      " 11  description   8807 non-null   object\n",
      "dtypes: int64(1), object(11)\n",
      "memory usage: 825.8+ KB\n",
      "None\n",
      "show_id            0\n",
      "type               0\n",
      "title              0\n",
      "director        2634\n",
      "cast             825\n",
      "country          831\n",
      "date_added        10\n",
      "release_year       0\n",
      "rating             4\n",
      "duration           3\n",
      "listed_in          0\n",
      "description        0\n",
      "dtype: int64\n"
     ]
    }
   ],
   "source": [
    "#Đọc dữ liệu và khám phá ban đầu\n",
    "\n",
    "import pandas as pd\n",
    "\n",
    "# Đọc file CSV\n",
    "df = pd.read_csv(\"netflix_titles.csv\")\n",
    "\n",
    "# Xem trước dữ liệu\n",
    "print(df.head())\n",
    "\n",
    "# Thông tin tổng quát\n",
    "print(df.info())\n",
    "\n",
    "# Kiểm tra số lượng null trong từng cột\n",
    "print(df.isnull().sum())"
   ]
  },
  {
   "cell_type": "code",
   "execution_count": 55,
   "id": "c1b94d13",
   "metadata": {},
   "outputs": [
    {
     "name": "stdout",
     "output_type": "stream",
     "text": [
      "0       25/09/2021\n",
      "1       24/09/2021\n",
      "2       24/09/2021\n",
      "3       24/09/2021\n",
      "4       24/09/2021\n",
      "           ...    \n",
      "8802    20/11/2019\n",
      "8803    01/07/2019\n",
      "8804    01/11/2019\n",
      "8805    11/01/2020\n",
      "8806    02/03/2019\n",
      "Name: date_added, Length: 8807, dtype: object\n"
     ]
    }
   ],
   "source": [
    "#Xử lý giá trị thiếu\n",
    "\n",
    "# Thay thế giá trị thiếu bằng 'Unknown' cho cột chuỗi\n",
    "for col in ['director', 'cast', 'country', 'rating']:\n",
    "    df[col] = df[col].fillna('Unknown')\n",
    "    \n",
    "# Cột date_added có thể chuyển sang datetime, giá trị thiếu sẽ là NaT\n",
    "df['date_added'] = pd.to_datetime(df['date_added'], errors='coerce')\n",
    "df['date_added'] = df['date_added'].dt.strftime('%d/%m/%Y')\n",
    "print(df.date_added)"
   ]
  },
  {
   "cell_type": "code",
   "execution_count": 56,
   "id": "0cc1311a",
   "metadata": {},
   "outputs": [],
   "source": [
    "#Làm sạch dữ liệu chuỗi (chuẩn hóa, loại bỏ khoảng trắng thừa)\n",
    "df['title'] = df['title'].str.strip()\n",
    "df['country'] = df['country'].str.strip()\n",
    "df['director'] = df['director'].str.strip()\n",
    "df['cast'] = df['cast'].str.strip()\n",
    "df['listed_in'] = df['listed_in'].str.strip()"
   ]
  },
  {
   "cell_type": "code",
   "execution_count": 57,
   "id": "14b762ed",
   "metadata": {},
   "outputs": [],
   "source": [
    "#Lưu file đã được làm sạch\n",
    "df.to_csv(\"netflix_cleaned.csv\", index=False)"
   ]
  }
 ],
 "metadata": {
  "kernelspec": {
   "display_name": "Python 3",
   "language": "python",
   "name": "python3"
  },
  "language_info": {
   "codemirror_mode": {
    "name": "ipython",
    "version": 3
   },
   "file_extension": ".py",
   "mimetype": "text/x-python",
   "name": "python",
   "nbconvert_exporter": "python",
   "pygments_lexer": "ipython3",
   "version": "3.12.0"
  }
 },
 "nbformat": 4,
 "nbformat_minor": 5
}
