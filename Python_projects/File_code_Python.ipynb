{
 "cells": [
  {
   "cell_type": "markdown",
   "id": "87be4aae",
   "metadata": {},
   "source": [
    "A. TIME VALUE OF MONEY - BOND AND STOCK VALUATION"
   ]
  },
  {
   "cell_type": "markdown",
   "id": "07d3e9ce",
   "metadata": {},
   "source": [
    "Giá trị tương lai (Future value-FV)\n",
    "Ví dụ: Ông A gửi tiền tiết kiệm 100 triệu đồng vào ngân hàng Vietcombank theo kỳ hạn gửi là 1 năm, với lãi suất 4.6%/năm. Sau 5 năm ông A mới rút tiền gốc và lãi. Hỏi sau 5 năm ông A nhận được số tiền là bao nhiêu?"
   ]
  },
  {
   "cell_type": "code",
   "execution_count": 2,
   "id": "109a4ee0",
   "metadata": {},
   "outputs": [
    {
     "data": {
      "text/plain": [
       "np.float64(125.21559532429762)"
      ]
     },
     "execution_count": 2,
     "metadata": {},
     "output_type": "execute_result"
    }
   ],
   "source": [
    "import numpy_financial as npf\n",
    "npf.fv(0.046,5,0,-100)\n",
    "#với rate= 4.6%\n",
    "# nper= 5\n",
    "# pmt= 0 vì ông A gửi 1 lần\n",
    "# pv =-100 số âm vì là số tiền ông A bỏ ra"
   ]
  },
  {
   "cell_type": "markdown",
   "id": "9a4eca71",
   "metadata": {},
   "source": [
    "Ví dụ: Mark Young vừa trúng giải xổ số, chi trả $50.000 một năm trong vòng 20 năm. Lần thanh toán đầu tiên sau 1 năm kể từ bây giờ. Chính phủ quảng cáo đây là Giải Triệu Phú bởi vì $1.000.000 = $50.000 x 20. Nếu lãi suất là 8%, giá trị hiện tại của giải thưởng này là bao nhiêu?"
   ]
  },
  {
   "cell_type": "code",
   "execution_count": 3,
   "id": "61a99f4c",
   "metadata": {},
   "outputs": [
    {
     "data": {
      "text/plain": [
       "np.float64(490907.3703724647)"
      ]
     },
     "execution_count": 3,
     "metadata": {},
     "output_type": "execute_result"
    }
   ],
   "source": [
    "import numpy_financial as npf\n",
    "npf.pv(0.08,20,-50000,0)\n",
    "#rate= 8%\n",
    "# nper= 20 năm\n",
    "# pmt =-50000,số tiền chính phủ phải chi trả hằng năm\n",
    "# fv= 0, vì sau 20 năm đã chi trả hết tiền thưởng"
   ]
  },
  {
   "cell_type": "markdown",
   "id": "6023e1cb",
   "metadata": {},
   "source": [
    "Ví dụ Giả sử bạn sẽ nhận được các khoản thanh toán hàng năm trong 5 năm,với khoản thanh toán đầu tiên là 10 triệu đồng. Các khoản thanh toán này sẽ tăng trưởng hàng năm với tỷ lệ 5%. Lãi suất chiết khấu là 8%. Tính giá trị hiện tại (PV) và giá trị tương lai (FV) của chuỗi thanh toán này."
   ]
  },
  {
   "cell_type": "code",
   "execution_count": null,
   "id": "ae05cd42",
   "metadata": {},
   "outputs": [
    {
     "name": "stdout",
     "output_type": "stream",
     "text": [
      "43.79473795950539\n",
      "64.34883810000007\n"
     ]
    }
   ],
   "source": [
    "def pv_growing_annuity(C, r, g, n):\n",
    "    if r <= g:\n",
    "        print(\"Lãi suất chiết khấu (r) phải > tỷ lệ tăng trưởng (g)\")\n",
    "    else:\n",
    "        return C * (1 - ((1 + g) / (1 + r))**n) / (r - g)\n",
    "   \n",
    "def fv_growing_annuity(C, r, g, n):\n",
    "    if r <= g:\n",
    "        print(\"Lãi suất (r) phải > tỷ lệ tăng trưởng (g)\")\n",
    "    else:\n",
    "        return C * ((1 + r)**n - (1 + g)**n) / (r - g)\n",
    "# theo như Ví dụ\n",
    "# C = 10      # Dòng tiền năm đầu (triệu đồng)\n",
    "# r = 0.08    # Lãi suất chiết khấu 8%\n",
    "# g = 0.05    # Tăng trưởng 5% mỗi năm\n",
    "# n = 5       # Số năm\n",
    "\n",
    "PV = pv_growing_annuity(10, 0.08, 0.05, 5)\n",
    "FV = fv_growing_annuity(10, 0.08, 0.05, 5)\n",
    "\n",
    "print(PV)\n",
    "print(FV)"
   ]
  },
  {
   "cell_type": "markdown",
   "id": "2fb6f951",
   "metadata": {},
   "source": [
    "Xem xét một dự án tiềm năng với khoản đầu tư ban đầu là 40.000$ và các dòng tiền dự kiến lần lượt là 5.000$, 8.000$, 12.000$ và 30.000$ vào cuối mỗi kỳ. Với mức lãi suất chiết khấu là 8% mỗi kỳ, hãy tính giá trị hiện tại ròng (NPV) của dự án."
   ]
  },
  {
   "cell_type": "code",
   "execution_count": 5,
   "id": "15b5a9c4",
   "metadata": {},
   "outputs": [
    {
     "name": "stdout",
     "output_type": "stream",
     "text": [
      "Giá trị hiện tại thuần của dự án đầu tư = 3065.22$\n"
     ]
    }
   ],
   "source": [
    "#Tính NPV\n",
    "import numpy_financial as npf\n",
    "cashflows = [-40000,5000, 8000, 12000, 30000]\n",
    "rate = 0.08\n",
    "npv = npf.npv(rate, cashflows) \n",
    "npv = round(npv,2)\n",
    "print(f\"Giá trị hiện tại thuần của dự án đầu tư = {npv:}$\")"
   ]
  },
  {
   "cell_type": "markdown",
   "id": "eb1ae994",
   "metadata": {},
   "source": [
    "Giả sử, một doanh nghiệp đang xem xét đầu tư vào một dự án với chi phí ban đầu là 20.000$. Dự kiến dự án sẽ mang lại dòng tiền lần lượt là 8.500$ vào năm thứ nhất, 10.200$ vào năm thứ hai và 6.200$ vào năm thứ ba. Hãy xác định tỷ suất hoàn vốn nội bộ (IRR) của dự án. Ta có thể sử dụng hàm irr từ thư viện numpy-financial để tính tỷ suất hoàn vốn nội bộ (IRR) của dự án."
   ]
  },
  {
   "cell_type": "code",
   "execution_count": 6,
   "id": "88feef5a",
   "metadata": {},
   "outputs": [
    {
     "name": "stdout",
     "output_type": "stream",
     "text": [
      "IRR = 12.41%\n"
     ]
    }
   ],
   "source": [
    "import numpy_financial as npf\n",
    "# Danh sách dòng tiền: âm ở thời điểm đầu tư, dương ở các năm tiếp theo\n",
    "cash_flows = [-20000, 8500, 10200, 6200]\n",
    "# Tính IRR\n",
    "irr = npf.irr(cash_flows)\n",
    "# Chuyển đổi sang phần trăm và làm tròn\n",
    "irr_percent = round(irr * 100, 2)\n",
    "print(f\"IRR = {irr_percent}%\")"
   ]
  },
  {
   "cell_type": "markdown",
   "id": "2275c183",
   "metadata": {},
   "source": [
    "Kiểm tra liệu tỷ lệ như vậy có làm cho NPV bằng không"
   ]
  },
  {
   "cell_type": "code",
   "execution_count": 7,
   "id": "03c895a2",
   "metadata": {},
   "outputs": [
    {
     "name": "stdout",
     "output_type": "stream",
     "text": [
      "Giá trị hiện tại thuần của dự án đầu tư = 0.0\n"
     ]
    }
   ],
   "source": [
    "# Dòng tiền\n",
    "cash_flows = [-20000, 8500, 10200, 6200]\n",
    "# Khai báo tỷ lệ IRR\n",
    "irr = npf.irr(cash_flows)\n",
    "# Tính NPV thủ công dựa trên IRR\n",
    "npv = 0\n",
    "for t in range(len(cash_flows)):\n",
    "    npv += cash_flows[t] / (1 + irr) ** t\n",
    "# Làm tròn kết quả NPV\n",
    "npv = round(npv, 2)\n",
    "# In kết quả\n",
    "print(f\"Giá trị hiện tại thuần của dự án đầu tư = {npv:}\")"
   ]
  },
  {
   "cell_type": "markdown",
   "id": "e432dbc6",
   "metadata": {},
   "source": [
    "Một doanh nghiệp dự định thực hiện một dự án đầu tư dài hạn. Dự án yêu cầu chi phí đầu tư ban đầu là 120 triệu đồng tại thời điểm hiện tại (năm 0), và đầu tư bổ sung 60 triệu đồng vào năm 1. Trong 5 năm tiếp theo, dự án dự kiến mang lại dòng tiền thu về lần lượt là 40 triệu, 80 triệu, 110 triệu, 100 triệu và 30 triệu đồng. Hãy tính IRR của dự án dựa trên dòng tiền đã cho. Biết chi phí vốn của doanh nghiệp là 10%, hãy kết luận liệu doanh nghiệp có nên chấp nhận dự án hay không."
   ]
  },
  {
   "cell_type": "code",
   "execution_count": 8,
   "id": "c94e2db1",
   "metadata": {},
   "outputs": [
    {
     "name": "stdout",
     "output_type": "stream",
     "text": [
      "IRR = 21.48%\n"
     ]
    }
   ],
   "source": [
    "import numpy_financial as npf\n",
    "# Dòng tiền từ năm 0 đến năm 6\n",
    "cash_flows = [-120, -60, 40, 80, 110, 100, 30]\n",
    "# Tính IRR\n",
    "irr = npf.irr(cash_flows)\n",
    "# Chuyển sang phần trăm và làm tròn\n",
    "irr_percent = round(irr * 100, 2)\n",
    "print(f\"IRR = {irr_percent}%\")"
   ]
  },
  {
   "cell_type": "markdown",
   "id": "65b7a8c5",
   "metadata": {},
   "source": [
    "Giả sử rằng dòng tiền của chúng ta sẽ là 504, -432, -432, -432 và 843, bắt đầu từ hôm nay"
   ]
  },
  {
   "cell_type": "code",
   "execution_count": 9,
   "id": "fee54195",
   "metadata": {},
   "outputs": [
    {
     "data": {
      "image/png": "[encoded data removed]",
      "text/plain": [
       "<Figure size 640x480 with 1 Axes>"
      ]
     },
     "metadata": {},
     "output_type": "display_data"
    }
   ],
   "source": [
    "# Vẽ biểu đồ 2 IRR\n",
    "import numpy_financial as npf\n",
    "import matplotlib.pyplot as plt\n",
    "cashflows=[504,-432,-432,-432,832]\n",
    "rate=[]\n",
    "npv=[]\n",
    "x=[0,0.3]\n",
    "y=[0,0]\n",
    "for i in range(1,30):\n",
    " rate.append(0.01*i)\n",
    " npv.append(npf.npv(0.01*i,cashflows))\n",
    "\n",
    "plt.plot(x,y),plt.plot(rate,npv)\n",
    "plt.show()"
   ]
  },
  {
   "cell_type": "markdown",
   "id": "c48fc96c",
   "metadata": {},
   "source": [
    "Giả sử rằng một công ty có kế hoạch vay 10 triệu đô la cho một dự án đầu tư dài hạn. Ngân hàng A đưa ra lãi suất kép hàng năm là 8% nửa năm một lần, trong khi ngân hàng B cung cấp lãi suất kép 7,9% hàng quý. Đối với công ty, lãi suất vay nào rẻ hơn?"
   ]
  },
  {
   "cell_type": "code",
   "execution_count": null,
   "id": "a4d277a0",
   "metadata": {},
   "outputs": [
    {
     "name": "stdout",
     "output_type": "stream",
     "text": [
      "EAR Ngân hàng A: 8.1600%\n",
      "EAR Ngân hàng B: 8.1371%\n",
      "Ngân hàng B có lãi suất hiệu dụng thấp hơn → Rẻ hơn.\n"
     ]
    }
   ],
   "source": [
    "#  Ví dụ - EAR\n",
    "def tinh_ear(apr, so_ky_ghép):\n",
    "    return (1 + apr / so_ky_ghép) ** so_ky_ghép - 1\n",
    "\n",
    "# Lãi suất danh nghĩa\n",
    "lai_suat_A = 0.08  # 8%/năm, ghép lãi 2 lần/năm\n",
    "lai_suat_B = 0.079  # 7.9%/năm, ghép lãi 4 lần/năm\n",
    "\n",
    "# Tính EAR\n",
    "ear_A = tinh_ear(lai_suat_A, 2)\n",
    "ear_B = tinh_ear(lai_suat_B, 4)\n",
    "\n",
    "# In kết quả\n",
    "print(f\"EAR Ngân hàng A: {ear_A:.4%}\")\n",
    "print(f\"EAR Ngân hàng B: {ear_B:.4%}\")\n",
    "\n",
    "# So sánh\n",
    "if ear_A < ear_B:\n",
    "    print(\"Ngân hàng A có lãi suất hiệu dụng thấp hơn → Rẻ hơn.\")\n",
    "else:\n",
    "    print(\"Ngân hàng B có lãi suất hiệu dụng thấp hơn → Rẻ hơn.\")"
   ]
  },
  {
   "cell_type": "markdown",
   "id": "2785a423",
   "metadata": {},
   "source": [
    "Ngân hàng A: APR = 8%, ghép nửa năm một lần\n",
    "Ngân hàng B: APR = ?, ghép hàng quý\n",
    "Nếu chúng ta muốn so sánh mức sinh lời thực tế của hai đề nghị này, chúng ta không thể so sánh trực tiếp các lãi suất danh nghĩa, vì tần suất ghép khác nhau tạo ra mức lãi kép khác nhau. "
   ]
  },
  {
   "cell_type": "code",
   "execution_count": 12,
   "id": "3a520559",
   "metadata": {},
   "outputs": [
    {
     "name": "stdout",
     "output_type": "stream",
     "text": [
      "0.07921561087422813\n"
     ]
    }
   ],
   "source": [
    "# Cách 2: Chuyển đổi từ tỷ lệ hiệu quả này sang tỷ lệ hiệu quả khác\n",
    "APR_A = 0.08   # APR của Ngân hàng A\n",
    "m1 = 2         # Ghép lãi nửa năm\n",
    "m2 = 4         # Quy đổi sang ghép lãi hàng quý\n",
    "def APR2APR(APR1, m1, m2):\n",
    "    R = (1 + APR1 / m1) ** (m1 / m2) - 1\n",
    "    return R * m2\n",
    "\n",
    "APR_B = APR2APR(APR_A, m1, m2)\n",
    "print(APR_B)"
   ]
  },
  {
   "cell_type": "markdown",
   "id": "1e7ed59e",
   "metadata": {},
   "source": [
    "Ngân hàng A cung cấp mức lãi suất danh nghĩa là 8%/năm, với lãi ghép nửa năm một lần. Tính lãi suất hiệu dụng hàng năm (EAR) tương ứng."
   ]
  },
  {
   "cell_type": "code",
   "execution_count": 13,
   "id": "426c0c39",
   "metadata": {},
   "outputs": [
    {
     "name": "stdout",
     "output_type": "stream",
     "text": [
      "0.08160000000000012\n"
     ]
    }
   ],
   "source": [
    "# Tính EAR CỦA NGÂN HÀNG A\n",
    "APR_A = 0.08  # 8%/năm\n",
    "m = 2       # Ghép lãi nửa năm một lần\n",
    "def EAR_f(APR_A, m):\n",
    "    return (1 + APR_A / m)**m - 1\n",
    "EAR_A = EAR_f(APR_A, m)\n",
    "print(EAR_A)"
   ]
  },
  {
   "cell_type": "markdown",
   "id": "191ca5bd",
   "metadata": {},
   "source": [
    "Ngân hàng B cung cấp mức lãi suất danh nghĩa là 7,9215610874%/năm, với lãi ghép 4 lần một năm. Tính lãi suất hiệu dụng hàng năm (EAR) tương ứng."
   ]
  },
  {
   "cell_type": "code",
   "execution_count": 14,
   "id": "6cbb8075",
   "metadata": {},
   "outputs": [
    {
     "name": "stdout",
     "output_type": "stream",
     "text": [
      "0.08160000000000034\n"
     ]
    }
   ],
   "source": [
    "# Tính EAR CỦA NGÂN HÀNG B\n",
    "APR_B = 0.07921561087422813  # 8%/năm\n",
    "m = 4      # Ghép lãi nửa năm một lần\n",
    "def EAR_f(APR_B, m):\n",
    "    return (1 + APR_B / m)**m - 1\n",
    "EAR_B = EAR_f(APR_B, m)\n",
    "print(EAR_B)"
   ]
  },
  {
   "cell_type": "markdown",
   "id": "59404c70",
   "metadata": {},
   "source": [
    "Giả sử rằng APR là 2,34% kép nửa năm một lần. Rc tương đương của nó là gì?"
   ]
  },
  {
   "cell_type": "code",
   "execution_count": null,
   "id": "b67ea5af",
   "metadata": {},
   "outputs": [
    {
     "name": "stdout",
     "output_type": "stream",
     "text": [
      "0.023264168459415393\n",
      "Rc tương đương (lãi suất ghép liên tục): 0.0232641685\n",
      "APR tương đương với Rc = 0.0234\n",
      "Lãi suất mỗi kỳ (Rm) với Rc = 2.00% và m = 2: 1.005017%\n"
     ]
    }
   ],
   "source": [
    "# Lãi suất kép liên tục\n",
    "from math import log\n",
    "Rc=2*log(1+0.0234/2)\n",
    "print(Rc)\n",
    "\n",
    "# Tính Rc\n",
    "import math\n",
    "def APR2Rc(APR, m):\n",
    "    return m * math.log(1 + APR / m)\n",
    "APR = 0.0234  # 2.34%\n",
    "m = 2         # ghép nửa năm một lần\n",
    "Rc = APR2Rc(APR, m)\n",
    "print(f\"Rc tương đương (lãi suất ghép liên tục): {Rc:.10f}\")\n",
    "\n",
    "# Tính ngược lại APR\n",
    "from math import exp\n",
    "def Rc2APR(Rc, m):\n",
    "    return m * (exp(Rc / m) - 1)\n",
    "Rc = 0.023264168459415393  # 2% ghép liên tục\n",
    "m = 2      # Ghép nửa năm một lần\n",
    "APR = Rc2APR(Rc, m)\n",
    "print(f\"APR tương đương với Rc = {APR:.4f}\")\n",
    "\n",
    "# Tính lãi suất ghép lãi rời rạc mỗi kỳ từ lãi suất ghép liên tục hàng năm\n",
    "from math import exp\n",
    "def Rc2Rm(Rc, m):\n",
    "    return exp(Rc / m) - 1\n",
    "Rc = 0.02  # 2% lãi ghép liên tục mỗi năm\n",
    "m = 2      # ghép lãi nửa năm một lần\n",
    "Rm = Rc2Rm(Rc, m)\n",
    "print(f\"Lãi suất mỗi kỳ (Rm) với Rc = {Rc:.2%} và m = {m}: {Rm:.6%}\")"
   ]
  },
  {
   "cell_type": "markdown",
   "id": "b64da6ac",
   "metadata": {},
   "source": [
    "Ví dụ: CTCP X đã phát hành một loại trái phiếu có mệnh giá là 100.000 đồng, lãi suất trái phiếu là 10%/năm, mỗi năm trả lãi một lần vào cuối năm với kỳ hạn là 5 năm. Loại trái phiếu này đã lưu hành 2 năm và trả lãi 2 lần. Hiện trái phiếu đang được rao bán với giá 105.000 đồng. Một nhà đầu tư đang cân nhắc mua trái phiếu này và dự tính sẽ nắm giữ đến khi đáo hạn. Nếu nhà đầu tư yêu cầu mức sinh lời 9%/năm, thì có nên mua trái phiếu với giá 105.000 đồng hay không?"
   ]
  },
  {
   "cell_type": "code",
   "execution_count": 16,
   "id": "40c5aa26",
   "metadata": {},
   "outputs": [
    {
     "name": "stdout",
     "output_type": "stream",
     "text": [
      "Giá trị hiện tại của trái phiếu (dùng numpy_financial): 102531.29 đồng\n",
      "→ Không nên mua vì giá trị hiện tại thấp hơn giá thị trường.\n"
     ]
    }
   ],
   "source": [
    "import numpy_financial as npf\n",
    "# Thông số\n",
    "rate = 0.09      # Lãi suất yêu cầu\n",
    "nper = 3         # Số kỳ còn lại\n",
    "fv = 100000      # Mệnh giá trái phiếu\n",
    "pmt = fv*0.1      # Tiền lãi mỗi kỳ\n",
    "# Tính PV (hiện tại trái phiếu trả lãi cuối mỗi năm)\n",
    "pv = -npf.pv(rate=rate, nper=nper, pmt=pmt, fv=fv)\n",
    "# In kết quả\n",
    "print(f\"Giá trị hiện tại của trái phiếu (dùng numpy_financial): {pv:.2f} đồng\")\n",
    "# So sánh với giá thị trường\n",
    "market_price = 105000\n",
    "if pv < market_price:\n",
    "    print(\"→ Không nên mua vì giá trị hiện tại thấp hơn giá thị trường.\")\n",
    "else:\n",
    "    print(\"→ Nên mua vì giá trị hiện tại cao hơn hoặc bằng giá thị trường.\")"
   ]
  },
  {
   "cell_type": "markdown",
   "id": "a3e50fc4",
   "metadata": {},
   "source": [
    "Ví dụ: Công ty C có tốc độ tăng trưởng trong 3 năm đầu là 18%/năm (g1), kể từ năm thứ tư tốc độ tăng trưởng cổ tức giảm còn 7%/năm và duy trì mãi mãi (g2). Công ty đang trả cổ tức cho cổ đông 4500đ/1 cổ phiếu (D0). Tính hiện giá cổ phiếu (P0), biết lãi suất thị trường là 13%/năm."
   ]
  },
  {
   "cell_type": "code",
   "execution_count": 7,
   "id": "dfe702b3",
   "metadata": {},
   "outputs": [
    {
     "name": "stdout",
     "output_type": "stream",
     "text": [
      "Giá hiện tại của cổ phiếu (P0) là: 106111.29 đồng\n"
     ]
    }
   ],
   "source": [
    "# Thông số đầu vào\n",
    "D0 = 4500          \n",
    "g1 = 0.18         \n",
    "g2 = 0.07          \n",
    "r = 0.13           \n",
    "# Tính cổ tức từng năm\n",
    "D1 = D0 * (1 + g1)\n",
    "D2 = D1 * (1 + g1)\n",
    "D3 = D2 * (1 + g1)\n",
    "D4 = D3 * (1 + g2)\n",
    "# Tính P3\n",
    "P3 = D4 / (r - g2)\n",
    "# Các dòng tiền\n",
    "cash_flows = [D1, D2, D3 + P3]\n",
    "# Tự tính NPV: Discount dòng tiền về hiện tại\n",
    "P0 = sum(cash_flows[i] / (1 + r) ** (i + 1) for i in range(len(cash_flows)))\n",
    "print(f\"Giá hiện tại của cổ phiếu (P0) là: {P0:.2f} đồng\")"
   ]
  },
  {
   "cell_type": "markdown",
   "id": "85ac37f5",
   "metadata": {},
   "source": [
    "B. PORTFOLIO THEORY"
   ]
  },
  {
   "cell_type": "markdown",
   "id": "dca8d229",
   "metadata": {},
   "source": [
    "Giả sử nhà đầu tư đang cân nhắc đầu tư vào hai cổ phiếu là FPT và HPG. Dựa trên số liệu giả định, ta có thông tin sau:\n",
    "Độ lệch chuẩn hàng năm của FPT: FPT = 0.18\n",
    "Độ lệch chuẩn hàng năm của HPG: HPG= 0.3\n",
    "Hệ số tương quan giữa FPT và HPG:  = -1 (tương quan âm - giả định)\n",
    "Hãy xác định tỷ trọng đầu tư tối ưu vào mỗi cổ phiếu sao cho rủi ro danh mục đầu tư là thấp nhất có thể, lưu ý: w_2 = 1 - w_1. Bằng cách áp dụng công thức tổng quát của phương sai lợi nhuận danh mục đầu tư 2 cổ phiếu. "
   ]
  },
  {
   "cell_type": "code",
   "execution_count": 1,
   "id": "0056ae7e",
   "metadata": {},
   "outputs": [
    {
     "name": "stdout",
     "output_type": "stream",
     "text": [
      "Độ lệch chuẩn danh mục tối thiểu: 0.0\n",
      "Tỷ trọng đầu tư FPT (w1): 0.625\n",
      "Tỷ trọng đầu tư HPG (w2): 0.375\n"
     ]
    }
   ],
   "source": [
    "# Tối ưu hóa tỷ trọng đầu tư\n",
    "import numpy as np\n",
    "sigma1 = 0.18  # FPT\n",
    "sigma2 = 0.3  # HPG\n",
    "var1 = sigma1**2\n",
    "var2 = sigma2**2\n",
    "rho = -1       # giả định tương quan âm hoàn toàn\n",
    "n = 1000\n",
    "tiny = 1.0 / n\n",
    "portVar = 10  # khởi tạo với giá trị lớn\n",
    "for i in range(n + 1):\n",
    "    w1 = i * tiny\n",
    "    w2 = 1 - w1\n",
    "    var = w1**2 * var1 + w2**2 * var2 + 2 * w1 * w2 * rho * sigma1 * sigma2\n",
    "    if var < portVar:\n",
    "        portVar = var\n",
    "        finalW1 = w1\n",
    "print(\"Độ lệch chuẩn danh mục tối thiểu:\", np.sqrt(portVar))\n",
    "print(\"Tỷ trọng đầu tư FPT (w1):\", finalW1)\n",
    "print(\"Tỷ trọng đầu tư HPG (w2):\", 1 - finalW1)"
   ]
  },
  {
   "cell_type": "markdown",
   "id": "b2185104",
   "metadata": {},
   "source": [
    "Giả sử nhà đầu tư đang xem xét xây dựng một danh mục đầu tư gồm ba cổ phiếu, bao gồm: VCB, MWG, VNM với trọng số đầu tư, lợi suất kỳ vọng và phương sai lợi suất lần lượt là w = [0.4, 0.35, 0.25]; E(R_i) (%) = [11,16,10];  phương sai lợi suất = [0.03, 0.06, 0.028], có ma trận hiệp phương sai.\n",
    "Hãy tính: Lợi nhuận kỳ vọng danh mục E(R_p). Phương sai lợi nhuận danh mục. Lợi nhuận thực tế danh mục R_p"
   ]
  },
  {
   "cell_type": "code",
   "execution_count": 3,
   "id": "408a2c3d",
   "metadata": {},
   "outputs": [
    {
     "name": "stdout",
     "output_type": "stream",
     "text": [
      "Lợi nhuận kỳ vọng danh mục: 12.50%\n",
      "Phương sai lợi nhuận danh mục: 0.025450\n",
      "Độ lệch chuẩn (rủi ro): 15.95%\n",
      "Lợi nhuận thực tế danh mục: 11.70%\n"
     ]
    }
   ],
   "source": [
    "# Danh mục đầu tư N cổ phiếu\n",
    "import numpy as np\n",
    "# Trọng số danh mục\n",
    "w = np.array([0.4, 0.35, 0.25])\n",
    "# Lợi nhuận kỳ vọng từng cổ phiếu (%)\n",
    "E_R = np.array([0.11, 0.16, 0.10])\n",
    "# Ma trận hiệp phương sai\n",
    "cov_matrix = np.array([\n",
    "    [0.030, 0.020, 0.014],\n",
    "    [0.020, 0.060, 0.018],\n",
    "    [0.014, 0.018, 0.028]\n",
    "])\n",
    "# Lợi nhuận thực tế\n",
    "R_actual = np.array([0.12, 0.14, 0.08])\n",
    "\n",
    "# Lợi nhuận kỳ vọng danh mục\n",
    "E_Rp = np.dot(w, E_R)\n",
    "\n",
    "# Phương sai lợi nhuận danh mục\n",
    "var_Rp = np.dot(w.T, np.dot(cov_matrix, w))\n",
    "\n",
    "# Lợi nhuận thực tế\n",
    "R_p_actual = np.dot(w, R_actual)\n",
    "print(f\"Lợi nhuận kỳ vọng danh mục: {E_Rp*100:.2f}%\")\n",
    "print(f\"Phương sai lợi nhuận danh mục: {var_Rp:.6f}\")\n",
    "print(f\"Độ lệch chuẩn (rủi ro): {np.sqrt(var_Rp)*100:.2f}%\")\n",
    "print(f\"Lợi nhuận thực tế danh mục: {R_p_actual*100:.2f}%\")"
   ]
  },
  {
   "cell_type": "markdown",
   "id": "1395e9a5",
   "metadata": {},
   "source": [
    "Một nhà đầu tư đang cân nhắc phân bổ vốn giữa hai tài sản tài chính: tài sản A có lợi suất kỳ vọng 12%, độ lệch chuẩn 30%; tài sản B có lợi suất kỳ vọng 6%, độ lệch chuẩn 15%. Hệ số tương quan giữa hai tài sản là -0.5, cho thấy khả năng đa dạng hóa rủi ro. Tỷ trọng đầu tư vào tài sản A được điều chỉnh từ 0% đến 100%. Tính toán lợi suất kỳ vọng và rủi ro (đo bằng độ lệch chuẩn) của danh mục ứng với mỗi tỷ trọng, sau đó vẽ đường biên hiệu quả và tìm danh mục có rủi ro thấp nhất."
   ]
  },
  {
   "cell_type": "code",
   "execution_count": 4,
   "id": "efc54ded",
   "metadata": {},
   "outputs": [
    {
     "name": "stdout",
     "output_type": "stream",
     "text": [
      "   Tỷ trọng A  Tỷ trọng B  Lợi suất kỳ vọng  Rủi ro (std)\n",
      "0      0.0000      1.0000            0.0600        0.1500\n",
      "1      0.0101      0.9899            0.0606        0.1470\n",
      "2      0.0202      0.9798            0.0612        0.1440\n",
      "3      0.0303      0.9697            0.0618        0.1411\n",
      "4      0.0404      0.9596            0.0624        0.1383\n",
      "5      0.0505      0.9495            0.0630        0.1355\n",
      "6      0.0606      0.9394            0.0636        0.1328\n",
      "7      0.0707      0.9293            0.0642        0.1301\n",
      "8      0.0808      0.9192            0.0648        0.1275\n",
      "9      0.0909      0.9091            0.0655        0.1250\n"
     ]
    },
    {
     "data": {
      "image/png": "[encoded data removed]",
      "text/plain": [
       "<Figure size 800x500 with 1 Axes>"
      ]
     },
     "metadata": {},
     "output_type": "display_data"
    }
   ],
   "source": [
    "import numpy as np\n",
    "import matplotlib.pyplot as plt\n",
    "import pandas as pd\n",
    "\n",
    "# Giả sử 2 tài sản\n",
    "returns = np.array([0.12, 0.06])\n",
    "std_devs = np.array([0.30, 0.15])\n",
    "rho = -0.5\n",
    "\n",
    "# Tỷ trọng tài sản A từ 0 đến 1\n",
    "weights_A = np.linspace(0, 1, 100)\n",
    "weights_B = 1 - weights_A\n",
    "\n",
    "# Tính lợi suất và độ lệch chuẩn danh mục\n",
    "portfolio_returns = weights_A * returns[0] + weights_B * returns[1]\n",
    "portfolio_variances = (\n",
    "    (weights_A * std_devs[0])**2 +\n",
    "    (weights_B * std_devs[1])**2 +\n",
    "    2 * weights_A * weights_B * std_devs[0] * std_devs[1] * rho\n",
    ")\n",
    "portfolio_std = np.sqrt(portfolio_variances)\n",
    "df = pd.DataFrame({\n",
    "    \"Tỷ trọng A\": weights_A,\n",
    "    \"Tỷ trọng B\": weights_B,\n",
    "    \"Lợi suất kỳ vọng\": portfolio_returns,\n",
    "    \"Rủi ro (std)\": portfolio_std\n",
    "})\n",
    "print(df.round(4).head(10)) \n",
    "\n",
    "# Tìm danh mục có rủi ro thấp nhất\n",
    "min_var_index = np.argmin(portfolio_std)\n",
    "min_std = portfolio_std[min_var_index]\n",
    "min_return = portfolio_returns[min_var_index]\n",
    "\n",
    "# Vẽ đồ thị\n",
    "plt.figure(figsize=(8,5))\n",
    "plt.plot(portfolio_std, portfolio_returns, label=\"Tập hợp danh mục khả thi\", color='red')\n",
    "plt.plot(portfolio_std[min_var_index:], portfolio_returns[min_var_index:], \n",
    "         label=\"Đường biên hiệu quả\", color='blue', linewidth=2)\n",
    "plt.scatter(min_std, min_return, color='green', s=50, label=\"Danh mục rủi ro thấp nhất\")\n",
    "# Thêm chú thích\n",
    "plt.title(\"Đường biên hiệu quả với 2 tài sản\")\n",
    "plt.xlabel(\"Độ lệch chuẩn (rủi ro)\")\n",
    "plt.ylabel(\"Lợi suất kỳ vọng\")\n",
    "plt.legend()\n",
    "plt.grid(True)\n",
    "plt.show()"
   ]
  },
  {
   "cell_type": "markdown",
   "id": "01f0a89b",
   "metadata": {},
   "source": [
    "Một nhà đầu tư đang cân nhắc đầu tư vào tài sản A (lợi suất kỳ vọng 10%, độ lệch chuẩn 20%) và tài sản B (lợi suất kỳ vọng 6%, độ lệch chuẩn 10%). Hệ số tương quan giữa hai tài sản là -0.2 , cho thấy tiềm năng đa dạng hóa rủi ro nhờ sự biến động nghịch chiều. Giả định lãi suất phi rủi ro là 3% , hãy tính lợi suất kỳ vọng và độ lệch chuẩn của danh mục, sau đó sử dụng hệ số Sharpe để đánh giá mức sinh lời đã điều chỉnh theo rủi ro "
   ]
  },
  {
   "cell_type": "code",
   "execution_count": 5,
   "id": "47cac6df",
   "metadata": {},
   "outputs": [
    {
     "name": "stdout",
     "output_type": "stream",
     "text": [
      "Sharpe Ratio: 0.4551\n"
     ]
    }
   ],
   "source": [
    "import numpy as np\n",
    "\n",
    "# Thông tin tài sản\n",
    "r_A, r_B = 0.10, 0.06\n",
    "std_A, std_B = 0.20, 0.10\n",
    "rho = -0.2\n",
    "Rf = 0.03\n",
    "# Tỷ trọng\n",
    "w_A, w_B = 0.6, 0.4\n",
    "# Lợi suất kỳ vọng danh mục\n",
    "r_p = w_A * r_A + w_B * r_B\n",
    "\n",
    "# Phương sai danh mục\n",
    "var_p = (\n",
    "    (w_A * std_A)**2 +\n",
    "    (w_B * std_B)**2 +\n",
    "    2 * w_A * w_B * std_A * std_B * rho\n",
    ")\n",
    "std_p = np.sqrt(var_p)\n",
    "# Sharpe Ratio\n",
    "sharpe_ratio = (r_p - Rf) / std_p\n",
    "print(f\"Sharpe Ratio: {sharpe_ratio:.4f}\")"
   ]
  },
  {
   "cell_type": "markdown",
   "id": "9fdab2ab",
   "metadata": {},
   "source": [
    "Hệ số tương quan tăng lên mức dương 0.2. Tính lại Sharpe Ratio theo yêu cầu trên"
   ]
  },
  {
   "cell_type": "code",
   "execution_count": 6,
   "id": "67badd65",
   "metadata": {},
   "outputs": [
    {
     "name": "stdout",
     "output_type": "stream",
     "text": [
      "Sharpe Ratio: 0.4034\n"
     ]
    }
   ],
   "source": [
    "import numpy as np\n",
    "\n",
    "# Thông tin tài sản\n",
    "r_A, r_B = 0.10, 0.06\n",
    "std_A, std_B = 0.20, 0.10\n",
    "rho = 0.2\n",
    "Rf = 0.03\n",
    "# Tỷ trọng\n",
    "w_A, w_B = 0.6, 0.4\n",
    "# Lợi suất kỳ vọng danh mục\n",
    "r_p = w_A * r_A + w_B * r_B\n",
    "\n",
    "# Phương sai danh mục\n",
    "var_p = (\n",
    "    (w_A * std_A)**2 +\n",
    "    (w_B * std_B)**2 +\n",
    "    2 * w_A * w_B * std_A * std_B * rho\n",
    ")\n",
    "std_p = np.sqrt(var_p)\n",
    "\n",
    "# Sharpe Ratio\n",
    "sharpe_ratio = (r_p - Rf) / std_p\n",
    "print(f\"Sharpe Ratio: {sharpe_ratio:.4f}\")"
   ]
  }
 ],
 "metadata": {
  "kernelspec": {
   "display_name": "Python 3",
   "language": "python",
   "name": "python3"
  },
  "language_info": {
   "codemirror_mode": {
    "name": "ipython",
    "version": 3
   },
   "file_extension": ".py",
   "mimetype": "text/x-python",
   "name": "python",
   "nbconvert_exporter": "python",
   "pygments_lexer": "ipython3",
   "version": "3.12.0"
  }
 },
 "nbformat": 4,
 "nbformat_minor": 5
}
